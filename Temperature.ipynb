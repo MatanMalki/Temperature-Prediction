{
 "cells": [
  {
   "cell_type": "code",
   "execution_count": 1,
   "metadata": {},
   "outputs": [],
   "source": [
    "from datetime import datetime, timedelta\n",
    "import time\n",
    "from collections import namedtuple\n",
    "import pandas as pd\n",
    "import requests\n",
    "import matplotlib.pyplot as plt\n",
    "import json\n",
    "import requests\n",
    "from sklearn.preprocessing import LabelEncoder\n",
    "import category_encoders as ce\n",
    "from sklearn.model_selection import train_test_split\n",
    "import seaborn as sns\n",
    "from sklearn.linear_model import LinearRegression\n",
    "from sklearn.metrics import mean_absolute_error"
   ]
  },
  {
   "cell_type": "code",
   "execution_count": 2,
   "metadata": {},
   "outputs": [],
   "source": [
    "#\n",
    "#Data for Tel-Aviv\n",
    "city_id = \"6554238\"\n",
    "start = \"1593525600\"\n",
    "end = \"1622124000\"\n",
    "key = \"bb6c791e4d5c41bd015c3d07d86f39ec\"\n",
    "url = \"http://history.openweathermap.org/data/2.5/history/city?id={}&type=hour&start={}&end={}&appid={}\".format(city_id,start,end,key)\n",
    "response = requests.get(url)\n",
    "\n",
    "data = response.json()\n",
    "y = json.dumps(data)\n",
    "# convert json string to Json Dict\n",
    "jsonDict = json.loads(y)\n",
    "city = []\n",
    "date = []\n",
    "main = []\n",
    "pressure = []\n",
    "humidity = []\n",
    "temp_min = []\n",
    "temp_max = []\n",
    "wind_speed = []\n",
    "wind_degree = []\n",
    "for i in jsonDict['list']:\n",
    "    date.append(i['dt'])   \n",
    "    main.append(i['main'].get('temp'))\n",
    "    pressure.append(i['main'].get('pressure'))\n",
    "    humidity.append(i['main'].get('humidity'))\n",
    "    temp_min.append(i['main'].get('temp_min'))\n",
    "    temp_max.append(i['main'].get('temp_max'))\n",
    "    wind_speed.append(i['wind'].get('speed'))\n",
    "    wind_degree.append(i['wind'].get('deg'))\n",
    "    city.append('Tel Aviv')\n",
    "    \n",
    "    "
   ]
  },
  {
   "cell_type": "code",
   "execution_count": 3,
   "metadata": {},
   "outputs": [],
   "source": [
    "#\n",
    "#Data for Timrat\n",
    "city_id = \"293310\"\n",
    "start = \"1593525600\"\n",
    "end = \"1622124000\"\n",
    "key = \"bb6c791e4d5c41bd015c3d07d86f39ec\"\n",
    "url = \"http://history.openweathermap.org/data/2.5/history/city?id={}&type=hour&start={}&end={}&appid={}\".format(city_id,start,end,key)\n",
    "\n",
    "response = requests.get(url)\n",
    "\n",
    "data = response.json()\n",
    "y = json.dumps(data)\n",
    "# convert json string to Json Dict\n",
    "jsonDict = json.loads(y)\n",
    "\n",
    "for i in jsonDict['list']:\n",
    "    date.append(i['dt'])   \n",
    "    main.append(i['main'].get('temp'))\n",
    "    pressure.append(i['main'].get('pressure'))\n",
    "    humidity.append(i['main'].get('humidity'))\n",
    "    temp_min.append(i['main'].get('temp_min'))\n",
    "    temp_max.append(i['main'].get('temp_max'))\n",
    "    wind_speed.append(i['wind'].get('speed'))\n",
    "    wind_degree.append(i['wind'].get('deg'))\n",
    "    city.append('Timrat')\n"
   ]
  },
  {
   "cell_type": "code",
   "execution_count": 4,
   "metadata": {
    "scrolled": true
   },
   "outputs": [],
   "source": [
    "# data for yavne\n",
    "city_id = \"293222\"\n",
    "start = \"1593525600\"\n",
    "end = \"1622124000\"\n",
    "key = \"bb6c791e4d5c41bd015c3d07d86f39ec\"\n",
    "url = \"http://history.openweathermap.org/data/2.5/history/city?id={}&type=hour&start={}&end={}&appid={}\".format(city_id,start,end,key)\n",
    "\n",
    "response = requests.get(url)\n",
    "\n",
    "data = response.json()\n",
    "y = json.dumps(data)\n",
    "# convert json string to Json Dict\n",
    "jsonDict = json.loads(y)\n",
    "\n",
    "for i in jsonDict['list']:\n",
    "    date.append(i['dt'])   \n",
    "    main.append(i['main'].get('temp'))\n",
    "    pressure.append(i['main'].get('pressure'))\n",
    "    humidity.append(i['main'].get('humidity'))\n",
    "    temp_min.append(i['main'].get('temp_min'))\n",
    "    temp_max.append(i['main'].get('temp_max'))\n",
    "    wind_speed.append(i['wind'].get('speed'))\n",
    "    wind_degree.append(i['wind'].get('deg'))\n",
    "    city.append('Yavne')\n"
   ]
  },
  {
   "cell_type": "code",
   "execution_count": 5,
   "metadata": {},
   "outputs": [],
   "source": [
    "# data for Eilat\n",
    "city_id = \"295277\"\n",
    "start = \"1593525600\"\n",
    "end = \"1622124000\"\n",
    "key = \"bb6c791e4d5c41bd015c3d07d86f39ec\"\n",
    "url = \"http://history.openweathermap.org/data/2.5/history/city?id={}&type=hour&start={}&end={}&appid={}\".format(city_id,start,end,key)\n",
    "\n",
    "response = requests.get(url)\n",
    "\n",
    "data = response.json()\n",
    "y = json.dumps(data)\n",
    "# convert json string to Json Dict\n",
    "jsonDict = json.loads(y)\n",
    "\n",
    "for i in jsonDict['list']:\n",
    "    date.append(i['dt'])   \n",
    "    main.append(i['main'].get('temp'))\n",
    "    pressure.append(i['main'].get('pressure'))\n",
    "    humidity.append(i['main'].get('humidity'))\n",
    "    temp_min.append(i['main'].get('temp_min'))\n",
    "    temp_max.append(i['main'].get('temp_max'))\n",
    "    wind_speed.append(i['wind'].get('speed'))\n",
    "    wind_degree.append(i['wind'].get('deg'))\n",
    "    city.append('Eilat')\n"
   ]
  },
  {
   "cell_type": "code",
   "execution_count": 6,
   "metadata": {},
   "outputs": [],
   "source": [
    "# data for Haifa\n",
    "city_id = \"294800\"\n",
    "start = \"1593525600\"\n",
    "end = \"1622124000\"\n",
    "key = \"bb6c791e4d5c41bd015c3d07d86f39ec\"\n",
    "url = \"http://history.openweathermap.org/data/2.5/history/city?id={}&type=hour&start={}&end={}&appid={}\".format(city_id,start,end,key)\n",
    "\n",
    "response = requests.get(url)\n",
    "\n",
    "data = response.json()\n",
    "y = json.dumps(data)\n",
    "# convert json string to Json Dict\n",
    "jsonDict = json.loads(y)\n",
    "\n",
    "for i in jsonDict['list']:\n",
    "    date.append(i['dt'])   \n",
    "    main.append(i['main'].get('temp'))\n",
    "    pressure.append(i['main'].get('pressure'))\n",
    "    humidity.append(i['main'].get('humidity'))\n",
    "    temp_min.append(i['main'].get('temp_min'))\n",
    "    temp_max.append(i['main'].get('temp_max'))\n",
    "    wind_speed.append(i['wind'].get('speed'))\n",
    "    wind_degree.append(i['wind'].get('deg'))\n",
    "    city.append('Haifa')\n"
   ]
  },
  {
   "cell_type": "code",
   "execution_count": 7,
   "metadata": {},
   "outputs": [],
   "source": [
    "# data for Shelomi\n",
    "city_id = \"293522\"\n",
    "start = \"1593525600\"\n",
    "end = \"1622124000\"\n",
    "key = \"bb6c791e4d5c41bd015c3d07d86f39ec\"\n",
    "url = \"http://history.openweathermap.org/data/2.5/history/city?id={}&type=hour&start={}&end={}&appid={}\".format(city_id,start,end,key)\n",
    "\n",
    "response = requests.get(url)\n",
    "\n",
    "data = response.json()\n",
    "y = json.dumps(data)\n",
    "# convert json string to Json Dict\n",
    "jsonDict = json.loads(y)\n",
    "\n",
    "for i in jsonDict['list']:\n",
    "    date.append(i['dt'])   \n",
    "    main.append(i['main'].get('temp'))\n",
    "    pressure.append(i['main'].get('pressure'))\n",
    "    humidity.append(i['main'].get('humidity'))\n",
    "    temp_min.append(i['main'].get('temp_min'))\n",
    "    temp_max.append(i['main'].get('temp_max'))\n",
    "    wind_speed.append(i['wind'].get('speed'))\n",
    "    wind_degree.append(i['wind'].get('deg'))\n",
    "    city.append('Shelomi')\n"
   ]
  },
  {
   "cell_type": "code",
   "execution_count": 8,
   "metadata": {},
   "outputs": [],
   "source": [
    "# data for Jerusalem\n",
    "city_id = \"293198\"\n",
    "start = \"1593525600\"\n",
    "end = \"1622124000\"\n",
    "key = \"bb6c791e4d5c41bd015c3d07d86f39ec\"\n",
    "url = \"http://history.openweathermap.org/data/2.5/history/city?id={}&type=hour&start={}&end={}&appid={}\".format(city_id,start,end,key)\n",
    "\n",
    "response = requests.get(url)\n",
    "\n",
    "data = response.json()\n",
    "y = json.dumps(data)\n",
    "# convert json string to Json Dict\n",
    "jsonDict = json.loads(y)\n",
    "\n",
    "for i in jsonDict['list']:\n",
    "    date.append(i['dt'])   \n",
    "    main.append(i['main'].get('temp'))\n",
    "    pressure.append(i['main'].get('pressure'))\n",
    "    humidity.append(i['main'].get('humidity'))\n",
    "    temp_min.append(i['main'].get('temp_min'))\n",
    "    temp_max.append(i['main'].get('temp_max'))\n",
    "    wind_speed.append(i['wind'].get('speed'))\n",
    "    wind_degree.append(i['wind'].get('deg'))\n",
    "    city.append('Jerusalem')\n"
   ]
  },
  {
   "cell_type": "code",
   "execution_count": 9,
   "metadata": {},
   "outputs": [],
   "source": [
    "# data for Dolev\n",
    "city_id = \"8199393\"\n",
    "start = \"1593525600\"\n",
    "end = \"1622124000\"\n",
    "key = \"bb6c791e4d5c41bd015c3d07d86f39ec\"\n",
    "url = \"http://history.openweathermap.org/data/2.5/history/city?id={}&type=hour&start={}&end={}&appid={}\".format(city_id,start,end,key)\n",
    "\n",
    "response = requests.get(url)\n",
    "\n",
    "data = response.json()\n",
    "y = json.dumps(data)\n",
    "# convert json string to Json Dict\n",
    "jsonDict = json.loads(y)\n",
    "\n",
    "for i in jsonDict['list']:\n",
    "    date.append(i['dt'])   \n",
    "    main.append(i['main'].get('temp'))\n",
    "    pressure.append(i['main'].get('pressure'))\n",
    "    humidity.append(i['main'].get('humidity'))\n",
    "    temp_min.append(i['main'].get('temp_min'))\n",
    "    temp_max.append(i['main'].get('temp_max'))\n",
    "    wind_speed.append(i['wind'].get('speed'))\n",
    "    wind_degree.append(i['wind'].get('deg'))\n",
    "    city.append('Dolev')\n"
   ]
  },
  {
   "cell_type": "code",
   "execution_count": 10,
   "metadata": {},
   "outputs": [],
   "source": [
    "# data for Jaffa\n",
    "city_id = \"293253\"\n",
    "start = \"1593525600\"\n",
    "end = \"1622124000\"\n",
    "key = \"bb6c791e4d5c41bd015c3d07d86f39ec\"\n",
    "url = \"http://history.openweathermap.org/data/2.5/history/city?id={}&type=hour&start={}&end={}&appid={}\".format(city_id,start,end,key)\n",
    "\n",
    "response = requests.get(url)\n",
    "\n",
    "data = response.json()\n",
    "y = json.dumps(data)\n",
    "# convert json string to Json Dict\n",
    "jsonDict = json.loads(y)\n",
    "\n",
    "for i in jsonDict['list']:\n",
    "    date.append(i['dt'])   \n",
    "    main.append(i['main'].get('temp'))\n",
    "    pressure.append(i['main'].get('pressure'))\n",
    "    humidity.append(i['main'].get('humidity'))\n",
    "    temp_min.append(i['main'].get('temp_min'))\n",
    "    temp_max.append(i['main'].get('temp_max'))\n",
    "    wind_speed.append(i['wind'].get('speed'))\n",
    "    wind_degree.append(i['wind'].get('deg'))\n",
    "    city.append('Jaffa')\n"
   ]
  },
  {
   "cell_type": "code",
   "execution_count": 11,
   "metadata": {},
   "outputs": [],
   "source": [
    "# data for Urim\n",
    "city_id = \"293253\"\n",
    "start = \"1593525600\"\n",
    "end = \"1622124000\"\n",
    "key = \"bb6c791e4d5c41bd015c3d07d86f39ec\"\n",
    "url = \"http://history.openweathermap.org/data/2.5/history/city?id={}&type=hour&start={}&end={}&appid={}\".format(city_id,start,end,key)\n",
    "\n",
    "response = requests.get(url)\n",
    "\n",
    "data = response.json()\n",
    "y = json.dumps(data)\n",
    "# convert json string to Json Dict\n",
    "jsonDict = json.loads(y)\n",
    "\n",
    "for i in jsonDict['list']:\n",
    "    date.append(i['dt'])   \n",
    "    main.append(i['main'].get('temp'))\n",
    "    pressure.append(i['main'].get('pressure'))\n",
    "    humidity.append(i['main'].get('humidity'))\n",
    "    temp_min.append(i['main'].get('temp_min'))\n",
    "    temp_max.append(i['main'].get('temp_max'))\n",
    "    wind_speed.append(i['wind'].get('speed'))\n",
    "    wind_degree.append(i['wind'].get('deg'))\n",
    "    city.append('Urim')\n"
   ]
  },
  {
   "cell_type": "markdown",
   "metadata": {},
   "source": [
    "#### Creating a dataframe"
   ]
  },
  {
   "cell_type": "code",
   "execution_count": 12,
   "metadata": {},
   "outputs": [],
   "source": [
    "\n",
    "dict = {\n",
    "        'pressure': pressure, \n",
    "        'humidity': humidity,\n",
    "        'temp_min': temp_min, \n",
    "        'temp_max': temp_max, \n",
    "        'wind_speed': wind_speed,\n",
    "        'wind_degree': wind_degree, \n",
    "        'city': city, \n",
    "        'temperature': main\n",
    "    \n",
    "        } \n",
    "    \n",
    "df = pd.DataFrame(dict)\n",
    "df = df.sample(frac = 1)\n"
   ]
  },
  {
   "cell_type": "markdown",
   "metadata": {},
   "source": [
    "#### Corelation Matrix"
   ]
  },
  {
   "cell_type": "code",
   "execution_count": 13,
   "metadata": {},
   "outputs": [
    {
     "data": {
      "image/png": "[encoded data removed]",
      "text/plain": [
       "<Figure size 432x288 with 2 Axes>"
      ]
     },
     "metadata": {
      "needs_background": "light"
     },
     "output_type": "display_data"
    }
   ],
   "source": [
    "import seaborn as sns\n",
    "\n",
    "corrMatrix = df.corr()\n",
    "sns.heatmap(corrMatrix,annot=True)\n",
    "plt.show()"
   ]
  },
  {
   "cell_type": "markdown",
   "metadata": {},
   "source": [
    "#### Encoding City"
   ]
  },
  {
   "cell_type": "code",
   "execution_count": 14,
   "metadata": {},
   "outputs": [],
   "source": [
    "encoder=ce.OneHotEncoder(cols='city',handle_unknown='return_nan',return_df=True,use_cat_names=True)\n",
    "df = encoder.fit_transform(df)"
   ]
  },
  {
   "cell_type": "markdown",
   "metadata": {},
   "source": [
    "#### Splitting the Data into train and test"
   ]
  },
  {
   "cell_type": "code",
   "execution_count": 15,
   "metadata": {},
   "outputs": [
    {
     "data": {
      "text/plain": [
       "Index(['pressure', 'humidity', 'temp_min', 'temp_max', 'wind_speed',\n",
       "       'wind_degree', 'city_Tel Aviv', 'city_Eilat', 'city_Shelomi',\n",
       "       'city_Jaffa', 'city_Timrat', 'city_Yavne', 'city_Dolev', 'city_Haifa',\n",
       "       'city_Jerusalem', 'city_Urim', 'temperature'],\n",
       "      dtype='object')"
      ]
     },
     "execution_count": 15,
     "metadata": {},
     "output_type": "execute_result"
    }
   ],
   "source": [
    "df.columns"
   ]
  },
  {
   "cell_type": "code",
   "execution_count": 16,
   "metadata": {},
   "outputs": [],
   "source": [
    "df_train = df[['pressure', 'humidity', 'temp_min', 'temp_max', 'wind_speed',\n",
    "       'wind_degree', 'city_Timrat', 'city_Dolev', 'city_Jaffa',\n",
    "       'city_Shelomi', 'city_Urim', 'city_Tel Aviv', 'city_Haifa',\n",
    "       'city_Yavne', 'city_Jerusalem', 'city_Eilat'\n",
    "              ]]\n",
    "df_y = df.temperature"
   ]
  },
  {
   "cell_type": "code",
   "execution_count": 17,
   "metadata": {},
   "outputs": [
    {
     "name": "stdout",
     "output_type": "stream",
     "text": [
      "Shape of Training Data are 1352 rows and 16 columns.\n",
      "Shape of Training Target Variable is 1352 rows.\n",
      "Shape of Testing Data are 338 rows and 16 columns.\n",
      "Shape of Testing Target Variable is 338 rows.\n"
     ]
    }
   ],
   "source": [
    "#Splitting the data into train and test samples\n",
    "X_train, X_test, y_train, y_test = train_test_split(df_train,df_y, test_size=0.2)\n",
    "\n",
    "print(\"Shape of Training Data are {} rows and {} columns.\".format(X_train.shape[0],X_train.shape[1]))\n",
    "print(\"Shape of Training Target Variable is {} rows.\".format(y_train.shape[0]))\n",
    "print(\"Shape of Testing Data are {} rows and {} columns.\".format(X_test.shape[0],X_test.shape[1]))\n",
    "print(\"Shape of Testing Target Variable is {} rows.\".format(y_test.shape[0]))"
   ]
  },
  {
   "cell_type": "markdown",
   "metadata": {},
   "source": [
    "#### Establishing Baseline Mean Absolute Error"
   ]
  },
  {
   "cell_type": "code",
   "execution_count": 18,
   "metadata": {},
   "outputs": [
    {
     "name": "stdout",
     "output_type": "stream",
     "text": [
      "Baseline MAE:  3.514\n"
     ]
    }
   ],
   "source": [
    "ypred = [y_train.mean()] * len(y_train)\n",
    "print(\"Baseline MAE: \", round(mean_absolute_error(y_train,ypred),3))"
   ]
  },
  {
   "cell_type": "code",
   "execution_count": 19,
   "metadata": {},
   "outputs": [
    {
     "name": "stdout",
     "output_type": "stream",
     "text": [
      "Mean Absolute error is 0.111\n"
     ]
    }
   ],
   "source": [
    "# INSERT your code (or comment) here\n",
    "\n",
    "my_model = LinearRegression()\n",
    "\n",
    "#fit the model using our data\n",
    "my_model.fit(X_train, y_train)\n",
    "\n",
    "predicted_y = my_model.predict(X_test)\n",
    "\n",
    "MAE = mean_absolute_error(predicted_y,y_test)\n",
    "print(\"Mean Absolute error is {}\".format(round(MAE,3)))"
   ]
  }
 ],
 "metadata": {
  "kernelspec": {
   "display_name": "Python 3",
   "language": "python",
   "name": "python3"
  },
  "language_info": {
   "codemirror_mode": {
    "name": "ipython",
    "version": 3
   },
   "file_extension": ".py",
   "mimetype": "text/x-python",
   "name": "python",
   "nbconvert_exporter": "python",
   "pygments_lexer": "ipython3",
   "version": "3.7.6"
  }
 },
 "nbformat": 4,
 "nbformat_minor": 4
}
